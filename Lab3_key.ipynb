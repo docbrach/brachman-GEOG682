{
 "cells": [
  {
   "cell_type": "markdown",
   "metadata": {},
   "source": [
    "name, date, GEOG 682 Lab 3"
   ]
  },
  {
   "cell_type": "code",
   "execution_count": 13,
   "metadata": {},
   "outputs": [],
   "source": [
    "import numpy as np\n",
    "import pandas as pd\n",
    "import matplotlib.pyplot as plt\n"
   ]
  },
  {
   "cell_type": "code",
   "execution_count": 14,
   "metadata": {},
   "outputs": [],
   "source": [
    "df = pd.read_csv('Crime_2017.csv')"
   ]
  },
  {
   "cell_type": "code",
   "execution_count": 15,
   "metadata": {},
   "outputs": [
    {
     "data": {
      "text/plain": [
       "Index(['wkt_geom', 'CCN', 'DATE', 'SHIFT', 'METHOD', 'OFFENSE', 'BLOCK',\n",
       "       'XBLOCK', 'YBLOCK', 'WARD', 'ANC', 'DISTRICT', 'PSA', 'NEIGHBORHO',\n",
       "       'BLOCK_GROU', 'CENSUS_TRA', 'VOTING_PRE', 'LATITUDE', 'LONGITUDE',\n",
       "       'BID', 'START_DATE', 'END_DATE', 'OBJECTID'],\n",
       "      dtype='object')"
      ]
     },
     "execution_count": 15,
     "metadata": {},
     "output_type": "execute_result"
    }
   ],
   "source": [
    "df.columns"
   ]
  },
  {
   "cell_type": "code",
   "execution_count": 16,
   "metadata": {},
   "outputs": [
    {
     "data": {
      "text/plain": [
       "0        2017-06-12\n",
       "1        2017-06-12\n",
       "2        2017-06-12\n",
       "3        2017-06-12\n",
       "4        2017-06-12\n",
       "5        2017-06-12\n",
       "6        2017-06-12\n",
       "7        2017-06-12\n",
       "8        2017-06-12\n",
       "9        2017-06-12\n",
       "10       2017-06-12\n",
       "11       2017-06-12\n",
       "12       2017-06-14\n",
       "13       2017-06-14\n",
       "14       2017-06-14\n",
       "15       2017-06-14\n",
       "16       2017-06-14\n",
       "17       2017-06-14\n",
       "18       2017-06-14\n",
       "19       2017-06-20\n",
       "20       2017-06-14\n",
       "21       2017-06-14\n",
       "22       2017-06-16\n",
       "23       2017-06-14\n",
       "24       2017-06-17\n",
       "25       2017-06-14\n",
       "26       2017-06-14\n",
       "27       2017-06-14\n",
       "28       2017-06-14\n",
       "29       2017-06-14\n",
       "            ...    \n",
       "33039    2017-08-18\n",
       "33040    2017-08-18\n",
       "33041    2017-07-25\n",
       "33042    2017-07-25\n",
       "33043    2017-08-20\n",
       "33044    2017-08-20\n",
       "33045    2017-08-19\n",
       "33046    2017-08-19\n",
       "33047    2017-08-20\n",
       "33048    2017-08-19\n",
       "33049    2017-08-19\n",
       "33050    2017-08-19\n",
       "33051    2017-08-19\n",
       "33052    2017-08-19\n",
       "33053    2017-08-19\n",
       "33054    2017-08-19\n",
       "33055    2017-08-20\n",
       "33056    2017-08-20\n",
       "33057    2017-08-20\n",
       "33058    2017-08-20\n",
       "33059    2017-08-20\n",
       "33060    2017-08-20\n",
       "33061    2017-08-20\n",
       "33062    2017-08-20\n",
       "33063    2017-08-20\n",
       "33064    2017-08-20\n",
       "33065    2017-08-20\n",
       "33066    2017-08-20\n",
       "33067    2017-08-20\n",
       "33068    2017-07-31\n",
       "Name: DATE, Length: 33069, dtype: object"
      ]
     },
     "execution_count": 16,
     "metadata": {},
     "output_type": "execute_result"
    }
   ],
   "source": [
    "df['DATE']"
   ]
  },
  {
   "cell_type": "code",
   "execution_count": 17,
   "metadata": {},
   "outputs": [],
   "source": [
    "df_jan = df[df['DATE'].between('2017-01-01','2017-01-31')]"
   ]
  },
  {
   "cell_type": "code",
   "execution_count": 18,
   "metadata": {},
   "outputs": [
    {
     "data": {
      "text/plain": [
       "(3018, 23)"
      ]
     },
     "execution_count": 18,
     "metadata": {},
     "output_type": "execute_result"
    }
   ],
   "source": [
    "df_jan.shape"
   ]
  },
  {
   "cell_type": "markdown",
   "metadata": {},
   "source": [
    "there were 3018 crimes during january 2017"
   ]
  },
  {
   "cell_type": "code",
   "execution_count": 20,
   "metadata": {},
   "outputs": [],
   "source": [
    "df_dist3 = df.loc[df['DISTRICT'] == 3]"
   ]
  },
  {
   "cell_type": "code",
   "execution_count": 21,
   "metadata": {},
   "outputs": [
    {
     "data": {
      "text/plain": [
       "(5434, 23)"
      ]
     },
     "execution_count": 21,
     "metadata": {},
     "output_type": "execute_result"
    }
   ],
   "source": [
    "df_dist3.shape"
   ]
  },
  {
   "cell_type": "markdown",
   "metadata": {},
   "source": [
    "number of crimes in district 3 does not match count from spatial join - possible reasons include boundary inaccuracies, coding error in underlying data, etc..."
   ]
  },
  {
   "cell_type": "code",
   "execution_count": 22,
   "metadata": {},
   "outputs": [],
   "source": [
    "df_dist3autos = df.loc[(df['DISTRICT'] == 3) & (df['OFFENSE'] == 'THEFT F/AUTO')]"
   ]
  },
  {
   "cell_type": "code",
   "execution_count": 23,
   "metadata": {},
   "outputs": [
    {
     "data": {
      "text/plain": [
       "(2337, 23)"
      ]
     },
     "execution_count": 23,
     "metadata": {},
     "output_type": "execute_result"
    }
   ],
   "source": [
    "df_dist3autos.shape"
   ]
  },
  {
   "cell_type": "markdown",
   "metadata": {},
   "source": [
    "There were 2337 thefts from autos in District 3 in 2017"
   ]
  },
  {
   "cell_type": "code",
   "execution_count": 24,
   "metadata": {},
   "outputs": [
    {
     "data": {
      "text/plain": [
       "<matplotlib.collections.PathCollection at 0x1170aa898>"
      ]
     },
     "execution_count": 24,
     "metadata": {},
     "output_type": "execute_result"
    },
    {
     "data": {
      "image/png": "[encoded data removed]",
      "text/plain": [
       "<Figure size 432x288 with 1 Axes>"
      ]
     },
     "metadata": {
      "needs_background": "light"
     },
     "output_type": "display_data"
    }
   ],
   "source": [
    "plt.scatter(df_dist3autos['XBLOCK'],df_dist3autos['YBLOCK'])"
   ]
  }
 ],
 "metadata": {
  "kernelspec": {
   "display_name": "Python 3",
   "language": "python",
   "name": "python3"
  },
  "language_info": {
   "codemirror_mode": {
    "name": "ipython",
    "version": 3
   },
   "file_extension": ".py",
   "mimetype": "text/x-python",
   "name": "python",
   "nbconvert_exporter": "python",
   "pygments_lexer": "ipython3",
   "version": "3.7.3"
  }
 },
 "nbformat": 4,
 "nbformat_minor": 2
}
